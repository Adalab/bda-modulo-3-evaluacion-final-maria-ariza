{
 "cells": [
  {
   "cell_type": "code",
   "execution_count": 27,
   "metadata": {},
   "outputs": [],
   "source": [
    "# importamos las librerías que necesitamos\n",
    "\n",
    "# Tratamiento de datos\n",
    "# -----------------------------------------------------------------------\n",
    "import pandas as pd\n",
    "import numpy as np\n",
    "\n",
    "# Imputación de nulos usando métodos avanzados estadísticos\n",
    "# -----------------------------------------------------------------------\n",
    "from sklearn.impute import SimpleImputer\n",
    "from sklearn.experimental import enable_iterative_imputer\n",
    "from sklearn.impute import IterativeImputer\n",
    "from sklearn.impute import KNNImputer\n",
    "\n",
    "# Librerías de visualización\n",
    "# -----------------------------------------------------------------------\n",
    "import seaborn as sns\n",
    "import matplotlib.pyplot as plt\n",
    "# Configuración\n",
    "# -----------------------------------------------------------------------\n",
    "pd.set_option('display.max_columns', None) # para poder visualizar todas las columnas de los DataFrames"
   ]
  },
  {
   "cell_type": "code",
   "execution_count": 28,
   "metadata": {},
   "outputs": [],
   "source": [
    "df1 = pd.read_csv('../files/Customer Flight Activity.csv')\n",
    "df2 = pd.read_csv('../files/Customer Loyalty History.csv')"
   ]
  },
  {
   "cell_type": "markdown",
   "metadata": {},
   "source": [
    "### Cambios a aplicar:\n",
    "\n",
    "DF1:\n",
    "\n",
    "- Cambiar el tipo de dato de Points Accumulated a int\n",
    "- Agrupar por número de cliente, año y mes, sumando el resto de columnas entre sí. \n",
    "\n",
    "DF2:\n",
    "\n",
    "- Imputar nulos en la columna Salary, pasar a positivo y cambiar a tipo int.\n",
    "- Cambiar el tipo de dato en Cancellation Year y Cancellation Month a tipo int."
   ]
  },
  {
   "cell_type": "code",
   "execution_count": 29,
   "metadata": {},
   "outputs": [],
   "source": [
    "df1 = df1.groupby([\"Loyalty Number\", \"Year\", \"Month\"], as_index=False).sum()\n",
    "#Agrupamos por \"Loyalty Number\", \"Year\" y \"Month\" y sumamos el resto de columnas."
   ]
  },
  {
   "cell_type": "markdown",
   "metadata": {},
   "source": [
    "Unimos los dataframes para aplicar las funciones correspondientes (el resultado no cambia si aplicamos antes o después de la unión)"
   ]
  },
  {
   "cell_type": "code",
   "execution_count": 30,
   "metadata": {},
   "outputs": [],
   "source": [
    "#Unimos ambos dfs por la columna que mantienen en común: 'Loyalty Number'\n",
    "df = pd.merge(df1, df2, on='Loyalty Number')\n"
   ]
  },
  {
   "cell_type": "markdown",
   "metadata": {},
   "source": [
    "Aplicamos los cambios restantes"
   ]
  },
  {
   "cell_type": "code",
   "execution_count": null,
   "metadata": {},
   "outputs": [],
   "source": [
    "# Función para cambiar el tipo de dato a int:\n",
    "def cambiar_tipo_int(col):\n",
    "    \"\"\"\n",
    "    Convierte los valores de una columna de tipo objeto a tipo int.\n",
    "\n",
    "    - Convierte los valores resultantes a tipo `int`.\n",
    "    - Si el valor es `NaN`, lo conserva como `np.nan`.\n",
    "\n",
    "    Parámetros:\n",
    "        col (int): El valor de la columna a procesar (de tipo integer).\n",
    "\n",
    "    Retorna:\n",
    "        int: El valor convertido a tipo integer, o 0 si el valor original era nulo.\n",
    "\n",
    "    Notas:\n",
    "        Si ocurre un error durante la conversión, imprime un mensaje indicando el error.\n",
    "    \"\"\"\n",
    "    try:\n",
    "        if pd.isna(col):  # Verifica si el valor es NaN\n",
    "            return 0      # Si el valor es Nulo, retorna 0 (los valores nulos no tienen impacto significativo en el análisis)\n",
    "        else:\n",
    "            return int(col)\n",
    "    except:\n",
    "        print(\"Ha ocurrido un error\")"
   ]
  },
  {
   "cell_type": "code",
   "execution_count": null,
   "metadata": {},
   "outputs": [
    {
     "name": "stdout",
     "output_type": "stream",
     "text": [
      "Tipos de datos cambiados a float para las columnas: ['Points Accumulated', 'Cancellation Year', 'Cancellation Month']\n",
      "Tipos de datos después del cambio: Points Accumulated    int64\n",
      "Cancellation Year     int64\n",
      "Cancellation Month    int64\n",
      "dtype: object\n",
      "------------------------------------------------------------\n"
     ]
    }
   ],
   "source": [
    "columnas_int = ['Points Accumulated', 'Cancellation Year', 'Cancellation Month']\n",
    "\n",
    "# cambiamos tipo de datos a float\n",
    "for columna in columnas_int:\n",
    "    df[columna] = df[columna].apply(cambiar_tipo_int)\n",
    "print(f\"Tipos de datos cambiados a int para las columnas: {columnas_int}\")\n",
    "print(f\"Tipos de datos después del cambio: {df[columnas_int].dtypes}\")\n",
    "print(\"---\" * 20)"
   ]
  },
  {
   "cell_type": "code",
   "execution_count": 35,
   "metadata": {},
   "outputs": [],
   "source": [
    "df['Salary'] = df['Salary'].apply(lambda x: -x if x < 0 else x)"
   ]
  },
  {
   "cell_type": "code",
   "execution_count": 36,
   "metadata": {},
   "outputs": [
    {
     "data": {
      "text/plain": [
       "118223    9081.0\n",
       "118220    9081.0\n",
       "118218    9081.0\n",
       "118217    9081.0\n",
       "118216    9081.0\n",
       "           ...  \n",
       "401659       NaN\n",
       "401660       NaN\n",
       "401661       NaN\n",
       "401662       NaN\n",
       "401663       NaN\n",
       "Name: Salary, Length: 401688, dtype: float64"
      ]
     },
     "execution_count": 36,
     "metadata": {},
     "output_type": "execute_result"
    }
   ],
   "source": [
    "df['Salary'].sort_values()"
   ]
  },
  {
   "cell_type": "markdown",
   "metadata": {},
   "source": [
    "Imputamos nulos en la columna 'Salary'"
   ]
  },
  {
   "cell_type": "code",
   "execution_count": null,
   "metadata": {},
   "outputs": [
    {
     "data": {
      "text/plain": [
       "25.321144769074504"
      ]
     },
     "execution_count": 38,
     "metadata": {},
     "output_type": "execute_result"
    }
   ],
   "source": [
    "#Calculamos el porcentaje de nulos\n",
    "df['Salary'].isnull().sum() / df.shape[0]*100"
   ]
  },
  {
   "cell_type": "markdown",
   "metadata": {},
   "source": [
    "Estudiamos la media y la mediana para ver qué valor nos interesa sustituir por los valores nulos:"
   ]
  },
  {
   "cell_type": "code",
   "execution_count": 39,
   "metadata": {},
   "outputs": [
    {
     "data": {
      "text/plain": [
       "mean     79359.340907\n",
       "50%      73455.000000\n",
       "max     407228.000000\n",
       "min       9081.000000\n",
       "Name: Salary, dtype: float64"
      ]
     },
     "execution_count": 39,
     "metadata": {},
     "output_type": "execute_result"
    }
   ],
   "source": [
    "df[\"Salary\"].describe()[[\"mean\", \"50%\", 'max', 'min']]"
   ]
  },
  {
   "cell_type": "code",
   "execution_count": null,
   "metadata": {},
   "outputs": [
    {
     "data": {
      "image/png": "[encoded data removed]",
      "text/plain": [
       "<Figure size 640x480 with 1 Axes>"
      ]
     },
     "metadata": {},
     "output_type": "display_data"
    }
   ],
   "source": [
    "# Observamos la distribución de la columna\n",
    "\n",
    "sns.histplot(x = \"Salary\", data = df);"
   ]
  },
  {
   "cell_type": "code",
   "execution_count": null,
   "metadata": {},
   "outputs": [
    {
     "data": {
      "image/png": "[encoded data removed]",
      "text/plain": [
       "<Figure size 640x480 with 1 Axes>"
      ]
     },
     "metadata": {},
     "output_type": "display_data"
    }
   ],
   "source": [
    "# Vemos los outliers:\n",
    "\n",
    "sns.boxplot(x= \"Salary\", data = df);"
   ]
  },
  {
   "cell_type": "markdown",
   "metadata": {},
   "source": [
    "Como los datos están sesgados (la media es mayor que la mediana debido a los outliers), usamos la mediana para imputar los valores nulos."
   ]
  },
  {
   "cell_type": "code",
   "execution_count": 42,
   "metadata": {},
   "outputs": [],
   "source": [
    "# creamos el objeto de la clase del SimpleImputer\n",
    "imp_salary = SimpleImputer(strategy = 'median')\n",
    "\n",
    "# ajustamos y transformamos los datos\n",
    "salary = imp_salary.fit_transform(df[[\"Salary\"]])\n"
   ]
  },
  {
   "cell_type": "code",
   "execution_count": 43,
   "metadata": {},
   "outputs": [
    {
     "data": {
      "text/plain": [
       "0"
      ]
     },
     "execution_count": 43,
     "metadata": {},
     "output_type": "execute_result"
    }
   ],
   "source": [
    "# actualizamos la columna 'Salary' con los datos imputados\n",
    "df[\"Salary\"] = salary\n",
    "\n",
    "# comprobamos si tenemos nulos. \n",
    "df['Salary'].isnull().sum()"
   ]
  },
  {
   "cell_type": "code",
   "execution_count": null,
   "metadata": {},
   "outputs": [],
   "source": [
    "#Transformamos los datos a integer\n",
    "df['Salary'] = df['Salary'].apply(lambda x: int(x))"
   ]
  },
  {
   "cell_type": "code",
   "execution_count": null,
   "metadata": {},
   "outputs": [
    {
     "name": "stdout",
     "output_type": "stream",
     "text": [
      "<class 'pandas.core.frame.DataFrame'>\n",
      "RangeIndex: 401688 entries, 0 to 401687\n",
      "Data columns (total 25 columns):\n",
      " #   Column                       Non-Null Count   Dtype  \n",
      "---  ------                       --------------   -----  \n",
      " 0   Loyalty Number               401688 non-null  int64  \n",
      " 1   Year                         401688 non-null  int64  \n",
      " 2   Month                        401688 non-null  int64  \n",
      " 3   Flights Booked               401688 non-null  int64  \n",
      " 4   Flights with Companions      401688 non-null  int64  \n",
      " 5   Total Flights                401688 non-null  int64  \n",
      " 6   Distance                     401688 non-null  int64  \n",
      " 7   Points Accumulated           401688 non-null  int64  \n",
      " 8   Points Redeemed              401688 non-null  int64  \n",
      " 9   Dollar Cost Points Redeemed  401688 non-null  int64  \n",
      " 10  Country                      401688 non-null  object \n",
      " 11  Province                     401688 non-null  object \n",
      " 12  City                         401688 non-null  object \n",
      " 13  Postal Code                  401688 non-null  object \n",
      " 14  Gender                       401688 non-null  object \n",
      " 15  Education                    401688 non-null  object \n",
      " 16  Salary                       401688 non-null  int64  \n",
      " 17  Marital Status               401688 non-null  object \n",
      " 18  Loyalty Card                 401688 non-null  object \n",
      " 19  CLV                          401688 non-null  float64\n",
      " 20  Enrollment Type              401688 non-null  object \n",
      " 21  Enrollment Year              401688 non-null  int64  \n",
      " 22  Enrollment Month             401688 non-null  int64  \n",
      " 23  Cancellation Year            401688 non-null  int64  \n",
      " 24  Cancellation Month           401688 non-null  int64  \n",
      "dtypes: float64(1), int64(15), object(9)\n",
      "memory usage: 76.6+ MB\n"
     ]
    }
   ],
   "source": [
    "# Verificamos los tipos de datos del df\n",
    "\n",
    "df.info()"
   ]
  },
  {
   "cell_type": "code",
   "execution_count": null,
   "metadata": {},
   "outputs": [],
   "source": [
    "# Guardamos el CSV con los cambios aplicados\n",
    "\n",
    "df.to_csv('../files/df_merged.csv')"
   ]
  }
 ],
 "metadata": {
  "kernelspec": {
   "display_name": "base",
   "language": "python",
   "name": "python3"
  },
  "language_info": {
   "codemirror_mode": {
    "name": "ipython",
    "version": 3
   },
   "file_extension": ".py",
   "mimetype": "text/x-python",
   "name": "python",
   "nbconvert_exporter": "python",
   "pygments_lexer": "ipython3",
   "version": "3.12.4"
  }
 },
 "nbformat": 4,
 "nbformat_minor": 2
}
